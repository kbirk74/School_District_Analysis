{
 "cells": [
  {
   "cell_type": "code",
   "execution_count": null,
   "id": "polished-prevention",
   "metadata": {},
   "outputs": [],
   "source": [
    "# Add the Pandas Dependency\n",
    "import pandas as pd"
   ]
  },
  {
   "cell_type": "code",
   "execution_count": null,
   "id": "remarkable-continuity",
   "metadata": {},
   "outputs": [],
   "source": [
    "# Files to Load \n",
    "school_data_to_load = \"Downloads/schools_complete.csv\"\n",
    "student_data_to_load = \"Downloads/students_complete.csv\""
   ]
  },
  {
   "cell_type": "code",
   "execution_count": null,
   "id": "portuguese-glenn",
   "metadata": {},
   "outputs": [],
   "source": [
    "# Read the school data file and store it in a Pandas DataFram. \n",
    "school_data_df = pd.read_csv(school_data_to_load)\n",
    "school_data_df"
   ]
  },
  {
   "cell_type": "raw",
   "id": "aggregate-mortgage",
   "metadata": {},
   "source": []
  }
 ],
 "metadata": {
  "kernelspec": {
   "display_name": "Python 3",
   "language": "python",
   "name": "python3"
  },
  "language_info": {
   "codemirror_mode": {
    "name": "ipython",
    "version": 3
   },
   "file_extension": ".py",
   "mimetype": "text/x-python",
   "name": "python",
   "nbconvert_exporter": "python",
   "pygments_lexer": "ipython3",
   "version": "3.8.5"
  }
 },
 "nbformat": 4,
 "nbformat_minor": 5
}
